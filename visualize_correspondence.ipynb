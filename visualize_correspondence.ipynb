{
 "cells": [
  {
   "cell_type": "code",
   "execution_count": 1,
   "metadata": {},
   "outputs": [
    {
     "ename": "ModuleNotFoundError",
     "evalue": "No module named 'matplotlib'",
     "output_type": "error",
     "traceback": [
      "\u001b[0;31m---------------------------------------------------------------------------\u001b[0m",
      "\u001b[0;31mModuleNotFoundError\u001b[0m                       Traceback (most recent call last)",
      "Cell \u001b[0;32mIn[1], line 1\u001b[0m\n\u001b[0;32m----> 1\u001b[0m \u001b[39mimport\u001b[39;00m \u001b[39mmatplotlib\u001b[39;00m\u001b[39m.\u001b[39;00m\u001b[39mpyplot\u001b[39;00m \u001b[39mas\u001b[39;00m \u001b[39mplt\u001b[39;00m\n\u001b[1;32m      2\u001b[0m \u001b[39mimport\u001b[39;00m \u001b[39mmatplotlib\u001b[39;00m\u001b[39m.\u001b[39;00m\u001b[39mimage\u001b[39;00m \u001b[39mas\u001b[39;00m \u001b[39mmpimg\u001b[39;00m\n\u001b[1;32m      3\u001b[0m \u001b[39mimport\u001b[39;00m \u001b[39mcv2\u001b[39;00m\n",
      "\u001b[0;31mModuleNotFoundError\u001b[0m: No module named 'matplotlib'"
     ]
    }
   ],
   "source": [
    "import matplotlib.pyplot as plt\n",
    "import matplotlib.image as mpimg\n",
    "import cv2\n",
    "import numpy as np\n",
    "\n",
    "\n",
    "from feature_detection import computeHarrisValues, detectCorners, computeMOPSDescriptors, produceMatches\n",
    "from plot_matches import drawPercent"
   ]
  },
  {
   "cell_type": "code",
   "execution_count": null,
   "metadata": {},
   "outputs": [],
   "source": [
    "# visualize original images\n",
    "img1 = cv2.imread('resources/triangle1.jpg', cv2.IMREAD_COLOR)\n",
    "img1 = cv2.cvtColor(img1, cv2.COLOR_BGR2RGB)\n",
    "\n",
    "img2 = cv2.imread('resources/triangle1.jpg', cv2.IMREAD_COLOR)\n",
    "img2 = cv2.cvtColor(img2, cv2.COLOR_BGR2RGB)\n",
    "\n",
    "\n",
    "f, axarr = plt.subplots(1, 2)\n",
    "axarr[0].imshow(img1)\n",
    "axarr[1].imshow(img2)"
   ]
  },
  {
   "cell_type": "code",
   "execution_count": 2,
   "metadata": {},
   "outputs": [
    {
     "ename": "NameError",
     "evalue": "name 'img1' is not defined",
     "output_type": "error",
     "traceback": [
      "\u001b[0;31m---------------------------------------------------------------------------\u001b[0m",
      "\u001b[0;31mNameError\u001b[0m                                 Traceback (most recent call last)",
      "Cell \u001b[0;32mIn[2], line 2\u001b[0m\n\u001b[1;32m      1\u001b[0m \u001b[39m# compute Harris corner detection and MOPS for img1\u001b[39;00m\n\u001b[0;32m----> 2\u001b[0m img1_norm \u001b[39m=\u001b[39m img1\u001b[39m.\u001b[39mastype(np\u001b[39m.\u001b[39mfloat32)\u001b[39m/\u001b[39m\u001b[39m255.\u001b[39m\n\u001b[1;32m      3\u001b[0m grayImage1 \u001b[39m=\u001b[39m cv2\u001b[39m.\u001b[39mcvtColor(img1_norm, cv2\u001b[39m.\u001b[39mCOLOR_BGR2GRAY)\n\u001b[1;32m      4\u001b[0m (harrisImg1, orientationImg1) \u001b[39m=\u001b[39m computeHarrisValues(grayImage1)\n",
      "\u001b[0;31mNameError\u001b[0m: name 'img1' is not defined"
     ]
    }
   ],
   "source": [
    "# compute Harris corner detection and MOPS for img1\n",
    "img1_norm = img1.astype(np.float32)/255.\n",
    "grayImage1 = cv2.cvtColor(img1_norm, cv2.COLOR_BGR2GRAY)\n",
    "(harrisImg1, orientationImg1) = computeHarrisValues(grayImage1)\n",
    "corners1 = detectCorners(harrisImg1,orientationImg1)\n",
    "\n",
    "\n",
    "#compute Harris corner detection and MOPS for img2\n",
    "img2_norm = img2.astype(np.float32) / 255.\n",
    "grayImage2 = cv2.cvtColor(img2_norm, cv2.COLOR_BGR2GRAY)\n",
    "(harrisImg2, orientationImg2) = computeHarrisValues(grayImage2)\n",
    "corners2 = detectCorners(harrisImg2,orientationImg2)"
   ]
  },
  {
   "cell_type": "code",
   "execution_count": null,
   "metadata": {},
   "outputs": [],
   "source": [
    "# 79.9% matched and the threshold is 10^(-2).\n",
    "vis = drawPercent(79.9, img1, img2, -2, corners1, corners2)\n",
    "plt.figure(figsize=(15, 20))\n",
    "plt.axis('off')\n",
    "plt.imshow(vis)"
   ]
  },
  {
   "cell_type": "code",
   "execution_count": null,
   "metadata": {},
   "outputs": [],
   "source": [
    "# visualize original images\n",
    "img1 = cv2.imread('resources/yosemite/yosemite1.jpg', cv2.IMREAD_COLOR)\n",
    "img1 = cv2.cvtColor(img1, cv2.COLOR_BGR2RGB)\n",
    "\n",
    "img2 = cv2.imread('resources/yosemite/yosemite2.jpg', cv2.IMREAD_COLOR)\n",
    "img2 = cv2.cvtColor(img2, cv2.COLOR_BGR2RGB)\n",
    "\n",
    "f, axarr = plt.subplots(1, 2)\n",
    "axarr[0].imshow(img1)\n",
    "axarr[1].imshow(img2)"
   ]
  },
  {
   "cell_type": "code",
   "execution_count": null,
   "metadata": {},
   "outputs": [],
   "source": [
    "# compute Harris corner detection and MOPS for img1\n",
    "img1_norm = img1.astype(np.float32)\n",
    "img1_norm /= 255.\n",
    "grayImage1 = cv2.cvtColor(img1_norm, cv2.COLOR_BGR2GRAY)\n",
    "(harrisImg1, orientationImg1) = computeHarrisValues(grayImage1)\n",
    "corners1 = detectCorners(harrisImg1,orientationImg1)\n",
    "\n",
    "\n",
    "#compute Harris corner detection and MOPS for img2\n",
    "img2_norm = img2.astype(np.float32)\n",
    "img2_norm /= 255.\n",
    "grayImage2 = cv2.cvtColor(img2_norm, cv2.COLOR_BGR2GRAY)\n",
    "(harrisImg2, orientationImg2) = computeHarrisValues(grayImage2)\n",
    "corners2 = detectCorners(harrisImg2,orientationImg2)"
   ]
  },
  {
   "cell_type": "code",
   "execution_count": null,
   "metadata": {},
   "outputs": [],
   "source": [
    "# 9.9% matched and the threshold is 10^(-.8). \n",
    "vis = drawPercent(9.9, img1, img2, -.8, corners1, corners2)\n",
    "plt.figure(figsize=(15, 20))\n",
    "plt.axis('off')\n",
    "plt.imshow(vis)"
   ]
  },
  {
   "cell_type": "code",
   "execution_count": null,
   "metadata": {},
   "outputs": [],
   "source": [
    "# visualize original images\n",
    "img1 = cv2.imread('resources/graf/img1.png', cv2.IMREAD_COLOR)\n",
    "img1 = cv2.cvtColor(img1, cv2.COLOR_BGR2RGB)\n",
    "\n",
    "img2 = cv2.imread('resources/graf/img2.png', cv2.IMREAD_COLOR)\n",
    "img2 = cv2.cvtColor(img2, cv2.COLOR_BGR2RGB)\n",
    "\n",
    "f, axarr = plt.subplots(1, 2)\n",
    "axarr[0].imshow(img1)\n",
    "axarr[1].imshow(img2)"
   ]
  },
  {
   "cell_type": "code",
   "execution_count": null,
   "metadata": {},
   "outputs": [],
   "source": [
    "# compute Harris corner detection and MOPS for img1\n",
    "img1_norm = img1.astype(np.float32)\n",
    "img1_norm /= 255.\n",
    "grayImage1 = cv2.cvtColor(img1_norm, cv2.COLOR_BGR2GRAY)\n",
    "(harrisImg1, orientationImg1) = computeHarrisValues(grayImage1)\n",
    "corners1 = detectCorners(harrisImg1,orientationImg1)\n",
    "\n",
    "\n",
    "#compute Harris corner detection and MOPS for img2\n",
    "img2_norm = img2.astype(np.float32)\n",
    "img2_norm /= 255.\n",
    "grayImage2 = cv2.cvtColor(img2_norm, cv2.COLOR_BGR2GRAY)\n",
    "(harrisImg2, orientationImg2) = computeHarrisValues(grayImage2)\n",
    "corners2 = detectCorners(harrisImg2,orientationImg2)"
   ]
  },
  {
   "cell_type": "code",
   "execution_count": null,
   "metadata": {},
   "outputs": [],
   "source": [
    "# 5.6% matched and the threshold is 10^(-.8). \n",
    "vis = drawPercent(5.6, img1, img2, -.8, corners1, corners2)\n",
    "plt.figure(figsize=(15, 20))\n",
    "plt.axis('off')\n",
    "plt.imshow(vis)"
   ]
  },
  {
   "cell_type": "code",
   "execution_count": null,
   "metadata": {},
   "outputs": [],
   "source": [
    "# visualize original images\n",
    "img1 = cv2.imread('resources/heart1.jpg', cv2.IMREAD_COLOR)\n",
    "img1 = cv2.cvtColor(img1, cv2.COLOR_BGR2RGB)\n",
    "\n",
    "img2 = cv2.imread('resources/heart2.jpg', cv2.IMREAD_COLOR)\n",
    "img2 = cv2.cvtColor(img2, cv2.COLOR_BGR2RGB)\n",
    "\n",
    "f, axarr = plt.subplots(1, 2)\n",
    "axarr[0].imshow(img1)\n",
    "axarr[1].imshow(img2)"
   ]
  },
  {
   "cell_type": "code",
   "execution_count": null,
   "metadata": {},
   "outputs": [],
   "source": [
    "# compute Harris corner detection and MOPS for img1\n",
    "img1_norm = img1.astype(np.float32)\n",
    "img1_norm /= 255.\n",
    "grayImage1 = cv2.cvtColor(img1_norm, cv2.COLOR_BGR2GRAY)\n",
    "(harrisImg1, orientationImg1) = computeHarrisValues(grayImage1)\n",
    "corners1 = detectCorners(harrisImg1,orientationImg1)\n",
    "\n",
    "\n",
    "#compute Harris corner detection and MOPS for img2\n",
    "img2_norm = img2.astype(np.float32)\n",
    "img2_norm /= 255.\n",
    "grayImage2 = cv2.cvtColor(img2_norm, cv2.COLOR_BGR2GRAY)\n",
    "(harrisImg2, orientationImg2) = computeHarrisValues(grayImage2)\n",
    "corners2 = detectCorners(harrisImg2,orientationImg2)"
   ]
  },
  {
   "cell_type": "code",
   "execution_count": null,
   "metadata": {},
   "outputs": [],
   "source": [
    "# 2.6% matched and the threshold is 10^(-5).\n",
    "vis = drawPercent(2.6, img1, img2, -5, corners1, corners2)\n",
    "plt.figure(figsize=(15, 20))\n",
    "plt.axis('off')\n",
    "plt.imshow(vis)"
   ]
  }
 ],
 "metadata": {
  "interpreter": {
   "hash": "aee8b7b246df8f9039afb4144a1f6fd8d2ca17a180786b69acc140d282b71a49"
  },
  "kernelspec": {
   "display_name": "Python 3.11.7 64-bit",
   "language": "python",
   "name": "python3"
  },
  "language_info": {
   "codemirror_mode": {
    "name": "ipython",
    "version": 3
   },
   "file_extension": ".py",
   "mimetype": "text/x-python",
   "name": "python",
   "nbconvert_exporter": "python",
   "pygments_lexer": "ipython3",
   "version": "3.10.11"
  },
  "orig_nbformat": 4
 },
 "nbformat": 4,
 "nbformat_minor": 2
}
